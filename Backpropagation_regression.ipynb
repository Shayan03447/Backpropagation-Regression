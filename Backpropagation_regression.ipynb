{
 "cells": [
  {
   "cell_type": "code",
   "execution_count": 33,
   "id": "3e121835",
   "metadata": {},
   "outputs": [],
   "source": [
    "import pandas as pd\n",
    "import numpy as np\n"
   ]
  },
  {
   "cell_type": "code",
   "execution_count": 34,
   "id": "dde3b9a0",
   "metadata": {},
   "outputs": [],
   "source": [
    "df=pd.DataFrame([[8,8,4],[7,9,5],[5,12,7]], columns=[\"cgpa\",\"profile_score\",\"lpa\"])"
   ]
  },
  {
   "cell_type": "code",
   "execution_count": 35,
   "id": "985c74ff",
   "metadata": {},
   "outputs": [
    {
     "data": {
      "text/html": [
       "<div>\n",
       "<style scoped>\n",
       "    .dataframe tbody tr th:only-of-type {\n",
       "        vertical-align: middle;\n",
       "    }\n",
       "\n",
       "    .dataframe tbody tr th {\n",
       "        vertical-align: top;\n",
       "    }\n",
       "\n",
       "    .dataframe thead th {\n",
       "        text-align: right;\n",
       "    }\n",
       "</style>\n",
       "<table border=\"1\" class=\"dataframe\">\n",
       "  <thead>\n",
       "    <tr style=\"text-align: right;\">\n",
       "      <th></th>\n",
       "      <th>cgpa</th>\n",
       "      <th>profile_score</th>\n",
       "      <th>lpa</th>\n",
       "    </tr>\n",
       "  </thead>\n",
       "  <tbody>\n",
       "    <tr>\n",
       "      <th>0</th>\n",
       "      <td>8</td>\n",
       "      <td>8</td>\n",
       "      <td>4</td>\n",
       "    </tr>\n",
       "    <tr>\n",
       "      <th>1</th>\n",
       "      <td>7</td>\n",
       "      <td>9</td>\n",
       "      <td>5</td>\n",
       "    </tr>\n",
       "    <tr>\n",
       "      <th>2</th>\n",
       "      <td>5</td>\n",
       "      <td>12</td>\n",
       "      <td>7</td>\n",
       "    </tr>\n",
       "  </tbody>\n",
       "</table>\n",
       "</div>"
      ],
      "text/plain": [
       "   cgpa  profile_score  lpa\n",
       "0     8              8    4\n",
       "1     7              9    5\n",
       "2     5             12    7"
      ]
     },
     "execution_count": 35,
     "metadata": {},
     "output_type": "execute_result"
    }
   ],
   "source": [
    "df"
   ]
  },
  {
   "cell_type": "code",
   "execution_count": 36,
   "id": "9b102e27",
   "metadata": {},
   "outputs": [],
   "source": [
    "def initialize_parameters(layer_dims):\n",
    "    np.random.seed(3)\n",
    "    parameters={}\n",
    "    L=len(layer_dims)\n",
    "    for l in range(1, L):\n",
    "        parameters[\"W\" + str(l)] = np.ones((layer_dims[l-1], layer_dims[l]))*0.1\n",
    "        parameters[\"b\"+ str(l)]=np.zeros((layer_dims[l], 1))\n",
    "    return parameters"
   ]
  },
  {
   "cell_type": "code",
   "execution_count": 37,
   "id": "1941f963",
   "metadata": {},
   "outputs": [
    {
     "data": {
      "text/plain": [
       "{'W1': array([[0.1, 0.1],\n",
       "        [0.1, 0.1]]),\n",
       " 'b1': array([[0.],\n",
       "        [0.]]),\n",
       " 'W2': array([[0.1],\n",
       "        [0.1]]),\n",
       " 'b2': array([[0.]])}"
      ]
     },
     "execution_count": 37,
     "metadata": {},
     "output_type": "execute_result"
    }
   ],
   "source": [
    "initialize_parameters([2,2,1])"
   ]
  },
  {
   "cell_type": "code",
   "execution_count": 38,
   "id": "04c09bba",
   "metadata": {},
   "outputs": [],
   "source": [
    "def linear_forword(A_prev, W, b):\n",
    "    Z=np.dot(W.T,A_prev)+b\n",
    "    return Z"
   ]
  },
  {
   "cell_type": "code",
   "execution_count": 58,
   "id": "d2c7574a",
   "metadata": {},
   "outputs": [],
   "source": [
    "#Forword propagation\n",
    "def L_layer_forword(X, parameters):\n",
    "    A= X\n",
    "    L =len(parameters) //2\n",
    "    for l in range(1, L+1):\n",
    "        A_prev=A\n",
    "        Wl=parameters['W'+ str(l)]\n",
    "        bl=parameters['b'+str(l)]\n",
    "        #print(\"A\"+str(l-1)+\": \", A_prev)\n",
    "        #print(\"W\"+str(l)+\": \", Wl)\n",
    "        #print(\"b\"+str(l)+\": \", bl)\n",
    "        #print(\"--\"*20)\n",
    "\n",
    "        A=linear_forword(A_prev, Wl, bl)\n",
    "        #print(\"A\"+str(l)+\": \", A)\n",
    "        #print(\"**\"*20)\n",
    "    return A,A_prev"
   ]
  },
  {
   "cell_type": "code",
   "execution_count": 40,
   "id": "4e24bd65",
   "metadata": {},
   "outputs": [
    {
     "name": "stdout",
     "output_type": "stream",
     "text": [
      "A0:  [[8]\n",
      " [8]]\n",
      "W1:  [[0.1 0.1]\n",
      " [0.1 0.1]]\n",
      "b1:  [[0.]\n",
      " [0.]]\n",
      "----------------------------------------\n",
      "A1:  [[1.6]\n",
      " [1.6]]\n",
      "****************************************\n",
      "A1:  [[1.6]\n",
      " [1.6]]\n",
      "W2:  [[0.1]\n",
      " [0.1]]\n",
      "b2:  [[0.]]\n",
      "----------------------------------------\n",
      "A2:  [[0.32]]\n",
      "****************************************\n"
     ]
    }
   ],
   "source": [
    "X=df[[\"cgpa\",\"profile_score\"]].values[0].reshape(2,1)\n",
    "y=df[[\"lpa\"]].values[0][0]\n",
    "# parameter initialization\n",
    "parameters=initialize_parameters([2,2,1])\n",
    "y_hat,A1=L_layer_forword(X,parameters)"
   ]
  },
  {
   "cell_type": "code",
   "execution_count": 41,
   "id": "c0df1660",
   "metadata": {},
   "outputs": [],
   "source": [
    "y_hat=y_hat[0][0]"
   ]
  },
  {
   "cell_type": "code",
   "execution_count": 42,
   "id": "263436cc",
   "metadata": {},
   "outputs": [
    {
     "data": {
      "text/plain": [
       "array([[1.6],\n",
       "       [1.6]])"
      ]
     },
     "execution_count": 42,
     "metadata": {},
     "output_type": "execute_result"
    }
   ],
   "source": [
    "A1"
   ]
  },
  {
   "cell_type": "code",
   "execution_count": 43,
   "id": "6e9e9943",
   "metadata": {},
   "outputs": [
    {
     "data": {
      "text/plain": [
       "np.float64(13.5424)"
      ]
     },
     "execution_count": 43,
     "metadata": {},
     "output_type": "execute_result"
    }
   ],
   "source": [
    "# calculate the loss(MSE)\n",
    "(y-0.32)**2"
   ]
  },
  {
   "cell_type": "code",
   "execution_count": 44,
   "id": "f661bca7",
   "metadata": {},
   "outputs": [],
   "source": [
    "def update_parameters(parameters,y,y_hat,A1,X):\n",
    "    parameters[\"W2\"][0][0] = parameters[\"W2\"][0][0] + (0.001 * 2 * (y-y_hat)*A1[0][0])\n",
    "    parameters[\"W2\"][1][0] = parameters[\"W2\"][1][0] + (0.001 * 2 * (y-y_hat)*A1[1][0])\n",
    "    parameters[\"b2\"][0][0] = parameters[\"W2\"][1][0] + (0.001 * 2 * (y-y_hat))\n",
    "\n",
    "    parameters[\"W1\"][0][0] = parameters[\"W1\"][0][0] + (0.001 * 2 * (y-y_hat)*parameters[\"W2\"][0][0]*X[0][0])\n",
    "    parameters[\"W1\"][0][1] = parameters[\"W1\"][0][1] + (0.001 * 2 * (y-y_hat)*parameters[\"W2\"][0][0]*X[1][0])\n",
    "    parameters[\"b1\"][0][0] = parameters[\"b1\"][0][0] + (0.001 * 2 * (y-y_hat)*parameters[\"W2\"][0][0])\n",
    "\n",
    "    parameters[\"W1\"][1][0] = parameters[\"W1\"][1][0] + (0.001 * 2 * (y-y_hat)*parameters[\"W2\"][1][0]*X[0][0])\n",
    "    parameters[\"W1\"][1][1] = parameters[\"W1\"][1][0] + (0.001 * 2 * (y-y_hat)*parameters[\"W2\"][1][0]*X[1][0])\n",
    "    parameters[\"b1\"][1][0] = parameters[\"b1\"][1][0] + (0.001 * 2 * (y-y_hat)*parameters[\"W2\"][1][0])"
   ]
  },
  {
   "cell_type": "code",
   "execution_count": 45,
   "id": "e1a8669b",
   "metadata": {},
   "outputs": [],
   "source": [
    "update_parameters(parameters,y,y_hat,A1,X)"
   ]
  },
  {
   "cell_type": "code",
   "execution_count": 46,
   "id": "549c6ebe",
   "metadata": {},
   "outputs": [
    {
     "data": {
      "text/plain": [
       "{'W1': array([[0.10658137, 0.10658137],\n",
       "        [0.10658137, 0.11316274]]),\n",
       " 'b1': array([[0.00082267],\n",
       "        [0.00082267]]),\n",
       " 'W2': array([[0.111776],\n",
       "        [0.111776]]),\n",
       " 'b2': array([[0.119136]])}"
      ]
     },
     "execution_count": 46,
     "metadata": {},
     "output_type": "execute_result"
    }
   ],
   "source": [
    "parameters"
   ]
  },
  {
   "cell_type": "code",
   "execution_count": 53,
   "id": "8709cbf4",
   "metadata": {},
   "outputs": [
    {
     "name": "stdout",
     "output_type": "stream",
     "text": [
      "A0:  [[8]\n",
      " [8]]\n",
      "W1:  [[0.13402808 0.15356161]\n",
      " [0.13432135 0.1599661 ]]\n",
      "b1:  [[0.0053432 ]\n",
      " [0.00539612]]\n",
      "----------------------------------------\n",
      "A1:  [[2.15213868]\n",
      " [2.5136178 ]]\n",
      "****************************************\n",
      "A1:  [[2.15213868]\n",
      " [2.5136178 ]]\n",
      "W2:  [[0.1686276 ]\n",
      " [0.17172672]]\n",
      "b2:  [[0.18417127]]\n",
      "----------------------------------------\n",
      "A2:  [[0.97873658]]\n",
      "****************************************\n"
     ]
    }
   ],
   "source": [
    "X=df[[\"cgpa\",\"profile_score\"]].values[0].reshape(2,1)\n",
    "y=df[[\"lpa\"]].values[0][0]\n",
    "\n",
    "y_hat,A1=L_layer_forword(X,parameters)"
   ]
  },
  {
   "cell_type": "code",
   "execution_count": 54,
   "id": "8ae8f882",
   "metadata": {},
   "outputs": [
    {
     "name": "stderr",
     "output_type": "stream",
     "text": [
      "C:\\Users\\R.C\\AppData\\Local\\Temp\\ipykernel_14756\\1739126728.py:2: DeprecationWarning: Conversion of an array with ndim > 0 to a scalar is deprecated, and will error in future. Ensure you extract a single element from your array before performing this operation. (Deprecated NumPy 1.25.)\n",
      "  parameters[\"W2\"][0][0] = parameters[\"W2\"][0][0] + (0.001 * 2 * (y-y_hat)*A1[0][0])\n",
      "C:\\Users\\R.C\\AppData\\Local\\Temp\\ipykernel_14756\\1739126728.py:3: DeprecationWarning: Conversion of an array with ndim > 0 to a scalar is deprecated, and will error in future. Ensure you extract a single element from your array before performing this operation. (Deprecated NumPy 1.25.)\n",
      "  parameters[\"W2\"][1][0] = parameters[\"W2\"][1][0] + (0.001 * 2 * (y-y_hat)*A1[1][0])\n",
      "C:\\Users\\R.C\\AppData\\Local\\Temp\\ipykernel_14756\\1739126728.py:4: DeprecationWarning: Conversion of an array with ndim > 0 to a scalar is deprecated, and will error in future. Ensure you extract a single element from your array before performing this operation. (Deprecated NumPy 1.25.)\n",
      "  parameters[\"b2\"][0][0] = parameters[\"W2\"][1][0] + (0.001 * 2 * (y-y_hat))\n",
      "C:\\Users\\R.C\\AppData\\Local\\Temp\\ipykernel_14756\\1739126728.py:6: DeprecationWarning: Conversion of an array with ndim > 0 to a scalar is deprecated, and will error in future. Ensure you extract a single element from your array before performing this operation. (Deprecated NumPy 1.25.)\n",
      "  parameters[\"W1\"][0][0] = parameters[\"W1\"][0][0] + (0.001 * 2 * (y-y_hat)*parameters[\"W2\"][0][0]*X[0][0])\n",
      "C:\\Users\\R.C\\AppData\\Local\\Temp\\ipykernel_14756\\1739126728.py:7: DeprecationWarning: Conversion of an array with ndim > 0 to a scalar is deprecated, and will error in future. Ensure you extract a single element from your array before performing this operation. (Deprecated NumPy 1.25.)\n",
      "  parameters[\"W1\"][0][1] = parameters[\"W1\"][0][1] + (0.001 * 2 * (y-y_hat)*parameters[\"W2\"][0][0]*X[1][0])\n",
      "C:\\Users\\R.C\\AppData\\Local\\Temp\\ipykernel_14756\\1739126728.py:8: DeprecationWarning: Conversion of an array with ndim > 0 to a scalar is deprecated, and will error in future. Ensure you extract a single element from your array before performing this operation. (Deprecated NumPy 1.25.)\n",
      "  parameters[\"b1\"][0][0] = parameters[\"b1\"][0][0] + (0.001 * 2 * (y-y_hat)*parameters[\"W2\"][0][0])\n",
      "C:\\Users\\R.C\\AppData\\Local\\Temp\\ipykernel_14756\\1739126728.py:10: DeprecationWarning: Conversion of an array with ndim > 0 to a scalar is deprecated, and will error in future. Ensure you extract a single element from your array before performing this operation. (Deprecated NumPy 1.25.)\n",
      "  parameters[\"W1\"][1][0] = parameters[\"W1\"][1][0] + (0.001 * 2 * (y-y_hat)*parameters[\"W2\"][1][0]*X[0][0])\n",
      "C:\\Users\\R.C\\AppData\\Local\\Temp\\ipykernel_14756\\1739126728.py:11: DeprecationWarning: Conversion of an array with ndim > 0 to a scalar is deprecated, and will error in future. Ensure you extract a single element from your array before performing this operation. (Deprecated NumPy 1.25.)\n",
      "  parameters[\"W1\"][1][1] = parameters[\"W1\"][1][0] + (0.001 * 2 * (y-y_hat)*parameters[\"W2\"][1][0]*X[1][0])\n",
      "C:\\Users\\R.C\\AppData\\Local\\Temp\\ipykernel_14756\\1739126728.py:12: DeprecationWarning: Conversion of an array with ndim > 0 to a scalar is deprecated, and will error in future. Ensure you extract a single element from your array before performing this operation. (Deprecated NumPy 1.25.)\n",
      "  parameters[\"b1\"][1][0] = parameters[\"b1\"][1][0] + (0.001 * 2 * (y-y_hat)*parameters[\"W2\"][1][0])\n"
     ]
    }
   ],
   "source": [
    "update_parameters(parameters,y,y_hat,A1,X)"
   ]
  },
  {
   "cell_type": "code",
   "execution_count": 59,
   "id": "ca9573d2",
   "metadata": {},
   "outputs": [
    {
     "name": "stdout",
     "output_type": "stream",
     "text": [
      "Epochs 1 Loss- 24.680573761216337\n",
      "Epochs 2 Loss- 20.33140803775008\n",
      "Epochs 3 Loss- 14.96831886728656\n",
      "Epochs 4 Loss- 9.345587837943214\n",
      "Epochs 5 Loss- 5.076642063662853\n"
     ]
    },
    {
     "data": {
      "text/plain": [
       "{'W1': array([[0.24911918, 0.35135103],\n",
       "        [0.25733235, 0.29083772]]),\n",
       " 'b1': array([[0.02424434],\n",
       "        [0.02561236]]),\n",
       " 'W2': array([[0.37842871],\n",
       "        [0.41331188]]),\n",
       " 'b2': array([[0.42006734]])}"
      ]
     },
     "execution_count": 59,
     "metadata": {},
     "output_type": "execute_result"
    }
   ],
   "source": [
    "# epochs implementation\n",
    "parameters=initialize_parameters([2,2,1])\n",
    "epochs=5\n",
    "for i in range(epochs):\n",
    "    Loss=[]\n",
    "    for j in range(df.shape[0]):\n",
    "        X=df[[\"cgpa\",\"profile_score\"]].values[j].reshape(2,1)\n",
    "        y=df[[\"lpa\"]].values[j][0]\n",
    "        # Parameter initialization\n",
    "        y_hat, A1 = L_layer_forword(X,parameters)\n",
    "        y_hat=y_hat[0][0]\n",
    "        update_parameters(parameters, y, y_hat,A1,X)\n",
    "        Loss.append((y-y_hat)**2)\n",
    "    print(\"Epochs\",i+1,\"Loss-\",np.array(Loss).mean())\n",
    "    \n",
    "parameters"
   ]
  },
  {
   "cell_type": "code",
   "execution_count": null,
   "id": "0352de29",
   "metadata": {},
   "outputs": [],
   "source": []
  }
 ],
 "metadata": {
  "kernelspec": {
   "display_name": "Machine_Learning",
   "language": "python",
   "name": "python3"
  },
  "language_info": {
   "codemirror_mode": {
    "name": "ipython",
    "version": 3
   },
   "file_extension": ".py",
   "mimetype": "text/x-python",
   "name": "python",
   "nbconvert_exporter": "python",
   "pygments_lexer": "ipython3",
   "version": "3.12.11"
  }
 },
 "nbformat": 4,
 "nbformat_minor": 5
}
